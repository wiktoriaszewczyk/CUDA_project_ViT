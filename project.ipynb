{
 "cells": [
  {
   "cell_type": "code",
   "id": "69b84c5b",
   "metadata": {
    "ExecuteTime": {
     "end_time": "2025-05-20T03:02:12.585822Z",
     "start_time": "2025-05-20T03:02:12.582587Z"
    }
   },
   "source": [
    "# !pip install datasets"
   ],
   "outputs": [],
   "execution_count": 2
  },
  {
   "cell_type": "code",
   "id": "c0c26756",
   "metadata": {
    "ExecuteTime": {
     "end_time": "2025-05-20T04:17:04.332837Z",
     "start_time": "2025-05-20T04:17:04.329927Z"
    }
   },
   "source": [
    "import torch\n",
    "import numpy as np\n",
    "import matplotlib.pyplot as plt\n",
    "from datasets import load_dataset\n",
    "import pandas as pd"
   ],
   "outputs": [],
   "execution_count": 40
  },
  {
   "cell_type": "code",
   "id": "9587ff35",
   "metadata": {
    "ExecuteTime": {
     "end_time": "2025-05-20T03:49:02.856745Z",
     "start_time": "2025-05-20T03:49:02.774261Z"
    }
   },
   "source": [
    "device = torch.device('cuda' if torch.cuda.is_available() else \"cpu\")\n",
    "print(device)"
   ],
   "outputs": [
    {
     "name": "stdout",
     "output_type": "stream",
     "text": [
      "cuda\n"
     ]
    }
   ],
   "execution_count": 2
  },
  {
   "cell_type": "markdown",
   "id": "ab9cfe50",
   "metadata": {},
   "source": [
    "## Dataset\n",
    "https://huggingface.co/datasets/huggan/wikiart"
   ]
  },
  {
   "cell_type": "code",
   "id": "6d97e4de",
   "metadata": {
    "ExecuteTime": {
     "end_time": "2025-05-20T03:02:16.494074Z",
     "start_time": "2025-05-20T03:02:16.489646Z"
    }
   },
   "source": [
    "def plot_histogram(data, title):\n",
    "    plt.figure(figsize=(8, 6))\n",
    "    plt.hist(data, bins=range(min(data), max(data) + 2), edgecolor='black')\n",
    "    plt.title(title)\n",
    "    plt.xlabel(\"Values\")\n",
    "    plt.ylabel(\"Frequency\")\n",
    "    plt.show()"
   ],
   "outputs": [],
   "execution_count": 5
  },
  {
   "cell_type": "code",
   "id": "22b5c959",
   "metadata": {
    "ExecuteTime": {
     "end_time": "2025-05-20T04:16:38.082904Z",
     "start_time": "2025-05-20T04:16:22.361039Z"
    }
   },
   "source": [
    "dataset = load_dataset(\"huggan/wikiart\", split=\"train\")"
   ],
   "outputs": [
    {
     "data": {
      "text/plain": [
       "Resolving data files:   0%|          | 0/72 [00:00<?, ?it/s]"
      ],
      "application/vnd.jupyter.widget-view+json": {
       "version_major": 2,
       "version_minor": 0,
       "model_id": "45956144c9c540579548bc8df7c28871"
      }
     },
     "metadata": {},
     "output_type": "display_data"
    },
    {
     "data": {
      "text/plain": [
       "Loading dataset shards:   0%|          | 0/45 [00:00<?, ?it/s]"
      ],
      "application/vnd.jupyter.widget-view+json": {
       "version_major": 2,
       "version_minor": 0,
       "model_id": "ac17d1985ae94149b1138e2f69828d25"
      }
     },
     "metadata": {},
     "output_type": "display_data"
    }
   ],
   "execution_count": 33
  },
  {
   "cell_type": "code",
   "id": "f3bab735",
   "metadata": {
    "ExecuteTime": {
     "end_time": "2025-05-20T04:16:49.338938Z",
     "start_time": "2025-05-20T04:16:49.334424Z"
    }
   },
   "source": [
    "print(f\"Total number of records: {len(dataset)}\")\n",
    "print(f\"Number of columns: {len(dataset.column_names)}\")\n",
    "print(dataset.column_names)"
   ],
   "outputs": [
    {
     "name": "stdout",
     "output_type": "stream",
     "text": [
      "Total number of records: 81444\n",
      "Number of columns: 4\n",
      "['image', 'artist', 'genre', 'style']\n"
     ]
    }
   ],
   "execution_count": 35
  },
  {
   "cell_type": "code",
   "id": "15e90032",
   "metadata": {
    "ExecuteTime": {
     "end_time": "2025-05-20T04:16:50.424035Z",
     "start_time": "2025-05-20T04:16:50.334639Z"
    }
   },
   "source": [
    "unique_genres = set(dataset['genre'])\n",
    "print(f\"Number of genres: {unique_genres.__len__()}\")\n",
    "print(f\"Unique genres: {unique_genres}\")"
   ],
   "outputs": [
    {
     "name": "stdout",
     "output_type": "stream",
     "text": [
      "Number of genres: 11\n",
      "Unique genres: {0, 1, 2, 3, 4, 5, 6, 7, 8, 9, 10}\n"
     ]
    }
   ],
   "execution_count": 36
  },
  {
   "cell_type": "code",
   "id": "3b9c94c6",
   "metadata": {
    "ExecuteTime": {
     "end_time": "2025-05-20T04:16:51.435063Z",
     "start_time": "2025-05-20T04:16:51.386114Z"
    }
   },
   "source": [
    "unique_style = set(dataset['style'])\n",
    "print(f\"Number of styles: {unique_style.__len__()}\")\n",
    "print(f\"Unique styles: {unique_style}\")"
   ],
   "outputs": [
    {
     "name": "stdout",
     "output_type": "stream",
     "text": [
      "Number of styles: 27\n",
      "Unique styles: {0, 1, 2, 3, 4, 5, 6, 7, 8, 9, 10, 11, 12, 13, 14, 15, 16, 17, 18, 19, 20, 21, 22, 23, 24, 25, 26}\n"
     ]
    }
   ],
   "execution_count": 37
  },
  {
   "cell_type": "markdown",
   "id": "098a225c",
   "metadata": {},
   "source": [
    "We will be using only 2 columns: image and genre"
   ]
  },
  {
   "cell_type": "code",
   "id": "0cfed1fa",
   "metadata": {
    "ExecuteTime": {
     "end_time": "2025-05-20T04:16:52.771568Z",
     "start_time": "2025-05-20T04:16:52.707403Z"
    }
   },
   "source": [
    "df = pd.DataFrame(dataset['genre'], columns=['genre'])\n",
    "\n",
    "genre_counts = df['genre'].value_counts()\n",
    "sorted_counts = genre_counts.sort_index(ascending=True)\n",
    "\n",
    "sorted_counts_df = pd.DataFrame(sorted_counts).reset_index()\n",
    "sorted_counts_df.columns = ['genre', 'count']\n",
    "#sorted_counts_df.style.hide_index()\n"
   ],
   "outputs": [],
   "execution_count": 38
  },
  {
   "cell_type": "code",
   "id": "4185bba5",
   "metadata": {},
   "source": [
    "plot_histogram(dataset['genre'], \"Distribution of Genres\")"
   ],
   "outputs": [],
   "execution_count": null
  },
  {
   "cell_type": "markdown",
   "id": "c86526b3",
   "metadata": {},
   "source": [
    "Concerning disproportion  in distribution of genres. This may negatively impact the classification results. "
   ]
  },
  {
   "cell_type": "code",
   "id": "46bbc4ac",
   "metadata": {},
   "source": [
    "list_of_images = []\n",
    "for genre in unique_genres:\n",
    "    for i in range(len(dataset)):\n",
    "        if dataset[i]['genre'] == genre:\n",
    "            list_of_images.append(dataset[i]['image'])\n",
    "            break"
   ],
   "outputs": [],
   "execution_count": null
  },
  {
   "cell_type": "code",
   "id": "2d8e043b",
   "metadata": {
    "ExecuteTime": {
     "end_time": "2025-05-20T03:02:44.374706Z",
     "start_time": "2025-05-20T03:02:44.360555Z"
    }
   },
   "source": [
    "plt.figure(figsize=(20, 20))\n",
    "for i in range(len(list_of_images)):\n",
    "    plt.subplot(5, 5, i + 1)\n",
    "    plt.imshow(list_of_images[i])\n",
    "    plt.title(f\"Genre {i + 1}\")\n",
    "    plt.axis('off')\n",
    "plt.tight_layout()\n",
    "plt.show()\n"
   ],
   "outputs": [
    {
     "data": {
      "text/plain": [
       "<Figure size 2000x2000 with 0 Axes>"
      ]
     },
     "metadata": {},
     "output_type": "display_data"
    }
   ],
   "execution_count": 13
  },
  {
   "cell_type": "markdown",
   "id": "73f86d28",
   "metadata": {},
   "source": [
    "## ViT"
   ]
  },
  {
   "cell_type": "code",
   "id": "3c488ec1837733a4",
   "metadata": {
    "ExecuteTime": {
     "end_time": "2025-05-20T03:49:19.000533Z",
     "start_time": "2025-05-20T03:49:13.593080Z"
    }
   },
   "source": [
    "from transformers import ViTImageProcessor, ViTForImageClassification"
   ],
   "outputs": [],
   "execution_count": 3
  },
  {
   "cell_type": "code",
   "id": "3aa90bfd5ad16d31",
   "metadata": {
    "ExecuteTime": {
     "end_time": "2025-05-20T03:49:19.240270Z",
     "start_time": "2025-05-20T03:49:19.005539Z"
    }
   },
   "source": "processor = ViTImageProcessor.from_pretrained('google/vit-base-patch16-224')\n",
   "outputs": [],
   "execution_count": 4
  },
  {
   "cell_type": "code",
   "id": "7d2a62478999a821",
   "metadata": {
    "ExecuteTime": {
     "end_time": "2025-05-20T03:49:38.841362Z",
     "start_time": "2025-05-20T03:49:20.328896Z"
    }
   },
   "source": [
    "from transformers import ViTImageProcessor, ViTForImageClassification, TrainingArguments, Trainer\n",
    "\n",
    "dataset = load_dataset(\"huggan/wikiart\", split=\"train\")\n",
    "dataset = dataset.select(range(2000))\n",
    "dataset = dataset.filter(lambda x: x['genre'] is not None)"
   ],
   "outputs": [
    {
     "data": {
      "text/plain": [
       "Resolving data files:   0%|          | 0/72 [00:00<?, ?it/s]"
      ],
      "application/vnd.jupyter.widget-view+json": {
       "version_major": 2,
       "version_minor": 0,
       "model_id": "77662640f169411e860ac239f438f5a4"
      }
     },
     "metadata": {},
     "output_type": "display_data"
    },
    {
     "data": {
      "text/plain": [
       "Loading dataset shards:   0%|          | 0/45 [00:00<?, ?it/s]"
      ],
      "application/vnd.jupyter.widget-view+json": {
       "version_major": 2,
       "version_minor": 0,
       "model_id": "718d6157e12642a680b475eaff6c74eb"
      }
     },
     "metadata": {},
     "output_type": "display_data"
    }
   ],
   "execution_count": 5
  },
  {
   "cell_type": "markdown",
   "id": "2191b99a",
   "metadata": {},
   "source": [
    "Encoding genre labels"
   ]
  },
  {
   "cell_type": "code",
   "id": "3b0f9c222004b500",
   "metadata": {
    "ExecuteTime": {
     "end_time": "2025-05-20T03:49:43.391208Z",
     "start_time": "2025-05-20T03:49:42.855190Z"
    }
   },
   "source": [
    "genres = list(set(dataset['genre']))\n",
    "label2id = {g: i for i, g in enumerate(genres)}\n",
    "id2label = {i: g for g, i in label2id.items()}\n",
    "\n",
    "\n",
    "def encode_labels(example):\n",
    "    example['label'] = label2id[example['genre']]\n",
    "    return example\n",
    "\n",
    "\n",
    "dataset = dataset.map(encode_labels)"
   ],
   "outputs": [],
   "execution_count": 7
  },
  {
   "cell_type": "markdown",
   "id": "5b922e0e",
   "metadata": {},
   "source": [
    "Preprocessing images"
   ]
  },
  {
   "cell_type": "code",
   "id": "ad7bf762b272332d",
   "metadata": {
    "ExecuteTime": {
     "end_time": "2025-05-20T03:49:46.689799Z",
     "start_time": "2025-05-20T03:49:45.575771Z"
    }
   },
   "source": [
    "processor = ViTImageProcessor.from_pretrained('google/vit-base-patch16-224')\n",
    "\n",
    "def preprocess(example):\n",
    "    inputs = processor(images=example['image'], return_tensors=\"pt\")\n",
    "    example['pixel_values'] = inputs['pixel_values'][0]\n",
    "    return example\n",
    "\n",
    "dataset = dataset.map(preprocess)"
   ],
   "outputs": [],
   "execution_count": 8
  },
  {
   "cell_type": "markdown",
   "id": "dcf2be32",
   "metadata": {},
   "source": [
    "Splitting dataset into train and test sets"
   ]
  },
  {
   "metadata": {
    "ExecuteTime": {
     "end_time": "2025-05-20T03:49:49.115381Z",
     "start_time": "2025-05-20T03:49:49.109877Z"
    }
   },
   "cell_type": "code",
   "source": [
    "def collate_fn(examples):\n",
    "    pixel_values = torch.stack([\n",
    "        torch.tensor(example[\"pixel_values\"]) if not isinstance(example[\"pixel_values\"], torch.Tensor)\n",
    "        else example[\"pixel_values\"]\n",
    "        for example in examples\n",
    "    ])\n",
    "    labels = torch.tensor([example[\"label\"] for example in examples])\n",
    "    return {\"pixel_values\": pixel_values, \"labels\": labels}"
   ],
   "id": "fce9389969b9bbca",
   "outputs": [],
   "execution_count": 9
  },
  {
   "cell_type": "code",
   "id": "17cc4233c17978",
   "metadata": {
    "ExecuteTime": {
     "end_time": "2025-05-20T03:49:51.158344Z",
     "start_time": "2025-05-20T03:49:51.104790Z"
    }
   },
   "source": [
    "split = dataset.train_test_split(test_size=0.2)\n",
    "train_dataset = split['train']\n",
    "eval_dataset = split['test']"
   ],
   "outputs": [],
   "execution_count": 10
  },
  {
   "metadata": {
    "ExecuteTime": {
     "end_time": "2025-05-20T03:49:53.154674Z",
     "start_time": "2025-05-20T03:49:52.405613Z"
    }
   },
   "cell_type": "code",
   "source": [
    "# Initialize the ViT model with your genre classes\n",
    "model = ViTForImageClassification.from_pretrained(\n",
    "    'google/vit-base-patch16-224',\n",
    "    num_labels=len(genres),\n",
    "    id2label=id2label,\n",
    "    label2id=label2id,\n",
    "    ignore_mismatched_sizes=True\n",
    ")"
   ],
   "id": "35ae2549777d48d5",
   "outputs": [
    {
     "name": "stderr",
     "output_type": "stream",
     "text": [
      "Some weights of ViTForImageClassification were not initialized from the model checkpoint at google/vit-base-patch16-224 and are newly initialized because the shapes did not match:\n",
      "- classifier.bias: found shape torch.Size([1000]) in the checkpoint and torch.Size([10]) in the model instantiated\n",
      "- classifier.weight: found shape torch.Size([1000, 768]) in the checkpoint and torch.Size([10, 768]) in the model instantiated\n",
      "You should probably TRAIN this model on a down-stream task to be able to use it for predictions and inference.\n"
     ]
    }
   ],
   "execution_count": 11
  },
  {
   "metadata": {
    "ExecuteTime": {
     "end_time": "2025-05-20T03:50:09.504346Z",
     "start_time": "2025-05-20T03:50:09.415238Z"
    }
   },
   "cell_type": "code",
   "source": [
    "train_args = TrainingArguments(\n",
    "    output_dir=\"output-models\",\n",
    "    per_device_train_batch_size=16,\n",
    "    num_train_epochs=2,\n",
    "    fp16=True,\n",
    "    save_steps=10,\n",
    "    eval_steps=10,\n",
    "    logging_steps=10,\n",
    "    learning_rate=2e-4,\n",
    "    save_total_limit=2,\n",
    "    remove_unused_columns=False,\n",
    "    push_to_hub=False,\n",
    "    report_to='tensorboard',\n",
    "    load_best_model_at_end=True,\n",
    "    eval_strategy='steps'\n",
    ")"
   ],
   "id": "ee2044377032782a",
   "outputs": [],
   "execution_count": 12
  },
  {
   "metadata": {
    "ExecuteTime": {
     "end_time": "2025-05-20T03:50:10.537649Z",
     "start_time": "2025-05-20T03:50:10.533540Z"
    }
   },
   "cell_type": "code",
   "source": [
    "import numpy as np\n",
    "def compute_metrics(eval_pred):\n",
    "    logits, labels = eval_pred\n",
    "    preds = np.argmax(logits, axis=1)\n",
    "    return {\"accuracy\": (preds == labels).mean()}\n"
   ],
   "id": "a7bd122d29b7f7fc",
   "outputs": [],
   "execution_count": 13
  },
  {
   "metadata": {
    "ExecuteTime": {
     "end_time": "2025-05-20T04:09:11.007652Z",
     "start_time": "2025-05-20T03:50:12.032872Z"
    }
   },
   "cell_type": "code",
   "source": [
    "trainer = Trainer(\n",
    "    model=model,\n",
    "    args=train_args,\n",
    "    train_dataset=train_dataset,\n",
    "    eval_dataset=eval_dataset,\n",
    "    data_collator=collate_fn\n",
    ")\n",
    "trainer.train()"
   ],
   "id": "197a9af5499fd496",
   "outputs": [
    {
     "data": {
      "text/plain": [
       "<IPython.core.display.HTML object>"
      ],
      "text/html": [
       "\n",
       "    <div>\n",
       "      \n",
       "      <progress value='200' max='200' style='width:300px; height:20px; vertical-align: middle;'></progress>\n",
       "      [200/200 18:53, Epoch 2/2]\n",
       "    </div>\n",
       "    <table border=\"1\" class=\"dataframe\">\n",
       "  <thead>\n",
       " <tr style=\"text-align: left;\">\n",
       "      <th>Step</th>\n",
       "      <th>Training Loss</th>\n",
       "      <th>Validation Loss</th>\n",
       "    </tr>\n",
       "  </thead>\n",
       "  <tbody>\n",
       "    <tr>\n",
       "      <td>10</td>\n",
       "      <td>1.932700</td>\n",
       "      <td>1.646668</td>\n",
       "    </tr>\n",
       "    <tr>\n",
       "      <td>20</td>\n",
       "      <td>1.687400</td>\n",
       "      <td>1.521328</td>\n",
       "    </tr>\n",
       "    <tr>\n",
       "      <td>30</td>\n",
       "      <td>1.371900</td>\n",
       "      <td>1.437903</td>\n",
       "    </tr>\n",
       "    <tr>\n",
       "      <td>40</td>\n",
       "      <td>1.373300</td>\n",
       "      <td>1.294222</td>\n",
       "    </tr>\n",
       "    <tr>\n",
       "      <td>50</td>\n",
       "      <td>1.293100</td>\n",
       "      <td>1.223035</td>\n",
       "    </tr>\n",
       "    <tr>\n",
       "      <td>60</td>\n",
       "      <td>1.291400</td>\n",
       "      <td>1.138757</td>\n",
       "    </tr>\n",
       "    <tr>\n",
       "      <td>70</td>\n",
       "      <td>1.138400</td>\n",
       "      <td>1.238583</td>\n",
       "    </tr>\n",
       "    <tr>\n",
       "      <td>80</td>\n",
       "      <td>1.278700</td>\n",
       "      <td>1.043511</td>\n",
       "    </tr>\n",
       "    <tr>\n",
       "      <td>90</td>\n",
       "      <td>1.063600</td>\n",
       "      <td>1.037326</td>\n",
       "    </tr>\n",
       "    <tr>\n",
       "      <td>100</td>\n",
       "      <td>1.052900</td>\n",
       "      <td>0.990417</td>\n",
       "    </tr>\n",
       "    <tr>\n",
       "      <td>110</td>\n",
       "      <td>0.537000</td>\n",
       "      <td>0.994887</td>\n",
       "    </tr>\n",
       "    <tr>\n",
       "      <td>120</td>\n",
       "      <td>0.472800</td>\n",
       "      <td>1.005540</td>\n",
       "    </tr>\n",
       "    <tr>\n",
       "      <td>130</td>\n",
       "      <td>0.479700</td>\n",
       "      <td>0.931310</td>\n",
       "    </tr>\n",
       "    <tr>\n",
       "      <td>140</td>\n",
       "      <td>0.473800</td>\n",
       "      <td>1.009260</td>\n",
       "    </tr>\n",
       "    <tr>\n",
       "      <td>150</td>\n",
       "      <td>0.402300</td>\n",
       "      <td>1.014470</td>\n",
       "    </tr>\n",
       "    <tr>\n",
       "      <td>160</td>\n",
       "      <td>0.393000</td>\n",
       "      <td>0.974466</td>\n",
       "    </tr>\n",
       "    <tr>\n",
       "      <td>170</td>\n",
       "      <td>0.418700</td>\n",
       "      <td>0.924199</td>\n",
       "    </tr>\n",
       "    <tr>\n",
       "      <td>180</td>\n",
       "      <td>0.382600</td>\n",
       "      <td>0.926182</td>\n",
       "    </tr>\n",
       "    <tr>\n",
       "      <td>190</td>\n",
       "      <td>0.299500</td>\n",
       "      <td>0.922073</td>\n",
       "    </tr>\n",
       "    <tr>\n",
       "      <td>200</td>\n",
       "      <td>0.443400</td>\n",
       "      <td>0.919726</td>\n",
       "    </tr>\n",
       "  </tbody>\n",
       "</table><p>"
      ]
     },
     "metadata": {},
     "output_type": "display_data"
    },
    {
     "data": {
      "text/plain": [
       "TrainOutput(global_step=200, training_loss=0.8893015611171723, metrics={'train_runtime': 1137.7292, 'train_samples_per_second': 2.813, 'train_steps_per_second': 0.176, 'total_flos': 2.479921468932096e+17, 'train_loss': 0.8893015611171723, 'epoch': 2.0})"
      ]
     },
     "execution_count": 14,
     "metadata": {},
     "output_type": "execute_result"
    }
   ],
   "execution_count": 14
  },
  {
   "metadata": {
    "ExecuteTime": {
     "end_time": "2025-05-20T04:09:52.653188Z",
     "start_time": "2025-05-20T04:09:14.178983Z"
    }
   },
   "cell_type": "code",
   "source": [
    "outputs = trainer.predict(eval_dataset)\n",
    "print(outputs.metrics)"
   ],
   "id": "35a7df7e13e5ea8b",
   "outputs": [
    {
     "data": {
      "text/plain": [
       "<IPython.core.display.HTML object>"
      ],
      "text/html": []
     },
     "metadata": {},
     "output_type": "display_data"
    },
    {
     "name": "stdout",
     "output_type": "stream",
     "text": [
      "{'test_loss': 0.919725775718689, 'test_runtime': 38.4688, 'test_samples_per_second': 10.398, 'test_steps_per_second': 1.3}\n"
     ]
    }
   ],
   "execution_count": 15
  },
  {
   "metadata": {
    "ExecuteTime": {
     "end_time": "2025-05-20T04:14:23.480191Z",
     "start_time": "2025-05-20T04:14:22.817188Z"
    }
   },
   "cell_type": "code",
   "source": [
    "from sklearn.metrics import confusion_matrix, ConfusionMatrixDisplay\n",
    "plt.style.use('dark_background')\n",
    "\n",
    "y_true = outputs.label_ids\n",
    "y_pred = outputs.predictions.argmax(1)\n",
    "\n",
    "labels = train_dataset.features[\"genre\"].names\n",
    "cm = confusion_matrix(y_true, y_pred)\n",
    "if len(labels) != cm.shape[0]:\n",
    "    labels = labels[:cm.shape[0]]\n",
    "\n",
    "disp = ConfusionMatrixDisplay(confusion_matrix=cm, display_labels=labels)\n",
    "disp.plot(xticks_rotation=45)"
   ],
   "id": "82fa9ca817170b96",
   "outputs": [
    {
     "data": {
      "text/plain": [
       "<sklearn.metrics._plot.confusion_matrix.ConfusionMatrixDisplay at 0x28039f26bd0>"
      ]
     },
     "execution_count": 29,
     "metadata": {},
     "output_type": "execute_result"
    },
    {
     "data": {
      "text/plain": [
       "<Figure size 640x480 with 2 Axes>"
      ],
      "image/png": "[encoded data removed]"
     },
     "metadata": {},
     "output_type": "display_data"
    }
   ],
   "execution_count": 29
  },
  {
   "metadata": {
    "ExecuteTime": {
     "end_time": "2025-05-20T04:15:41.083069Z",
     "start_time": "2025-05-20T04:15:41.074555Z"
    }
   },
   "cell_type": "code",
   "source": [
    "from sklearn.metrics import classification_report\n",
    "\n",
    "target_names = id2label.values()\n",
    "\n",
    "print(classification_report(y_true, y_pred, target_names=labels))"
   ],
   "id": "9c6155f7978b2659",
   "outputs": [
    {
     "name": "stdout",
     "output_type": "stream",
     "text": [
      "                    precision    recall  f1-score   support\n",
      "\n",
      " abstract_painting       0.75      0.62      0.68        24\n",
      "         cityscape       0.62      0.55      0.58        53\n",
      "    genre_painting       0.50      0.40      0.44        10\n",
      "      illustration       0.85      0.89      0.87        99\n",
      "         landscape       0.88      0.54      0.67        13\n",
      "     nude_painting       0.76      0.80      0.78        60\n",
      "          portrait       0.54      0.62      0.58        24\n",
      "religious_painting       0.57      0.79      0.66        38\n",
      "  sketch_and_study       0.88      0.54      0.67        13\n",
      "        still_life       0.57      0.53      0.55        66\n",
      "\n",
      "          accuracy                           0.69       400\n",
      "         macro avg       0.69      0.63      0.65       400\n",
      "      weighted avg       0.70      0.69      0.69       400\n",
      "\n"
     ]
    }
   ],
   "execution_count": 32
  }
 ],
 "metadata": {
  "kernelspec": {
   "display_name": "Python 3",
   "language": "python",
   "name": "python3"
  },
  "language_info": {
   "codemirror_mode": {
    "name": "ipython",
    "version": 3
   },
   "file_extension": ".py",
   "mimetype": "text/x-python",
   "name": "python",
   "nbconvert_exporter": "python",
   "pygments_lexer": "ipython3",
   "version": "3.11.5"
  }
 },
 "nbformat": 4,
 "nbformat_minor": 5
}
